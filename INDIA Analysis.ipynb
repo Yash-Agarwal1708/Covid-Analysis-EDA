{
 "cells": [
  {
   "cell_type": "code",
   "execution_count": 2,
   "id": "a680ca19",
   "metadata": {},
   "outputs": [],
   "source": [
    "import pandas as pd\n",
    "import numpy as np\n",
    "import matplotlib.pyplot as mp\n",
    "pd.options.mode.chained_assignment = None"
   ]
  },
  {
   "cell_type": "code",
   "execution_count": 3,
   "id": "c523b661",
   "metadata": {},
   "outputs": [],
   "source": [
    "df=pd.read_csv(\"covid_19_clean_complete.csv\")\n",
    "pd.set_option('display.max_rows',190)\n",
    "df1=df.drop([\"Province/State\",\"WHO Region\",\"Lat\",\"Long\"],axis=1)\n",
    "df2=df1[(df1[\"Country/Region\"]==\"India\")]"
   ]
  },
  {
   "cell_type": "code",
   "execution_count": 4,
   "id": "5a11c25c",
   "metadata": {},
   "outputs": [
    {
     "data": {
      "text/html": [
       "<div>\n",
       "<style scoped>\n",
       "    .dataframe tbody tr th:only-of-type {\n",
       "        vertical-align: middle;\n",
       "    }\n",
       "\n",
       "    .dataframe tbody tr th {\n",
       "        vertical-align: top;\n",
       "    }\n",
       "\n",
       "    .dataframe thead th {\n",
       "        text-align: right;\n",
       "    }\n",
       "</style>\n",
       "<table border=\"1\" class=\"dataframe\">\n",
       "  <thead>\n",
       "    <tr style=\"text-align: right;\">\n",
       "      <th></th>\n",
       "      <th>Country/Region</th>\n",
       "      <th>Confirmed</th>\n",
       "      <th>Deaths</th>\n",
       "      <th>Recovered</th>\n",
       "      <th>Active</th>\n",
       "      <th>date</th>\n",
       "      <th>month</th>\n",
       "    </tr>\n",
       "  </thead>\n",
       "  <tbody>\n",
       "    <tr>\n",
       "      <th>47892</th>\n",
       "      <td>India</td>\n",
       "      <td>1288108</td>\n",
       "      <td>30601</td>\n",
       "      <td>817209</td>\n",
       "      <td>440298</td>\n",
       "      <td>23/7</td>\n",
       "      <td>7</td>\n",
       "    </tr>\n",
       "    <tr>\n",
       "      <th>48153</th>\n",
       "      <td>India</td>\n",
       "      <td>1337024</td>\n",
       "      <td>31358</td>\n",
       "      <td>849432</td>\n",
       "      <td>456234</td>\n",
       "      <td>24/7</td>\n",
       "      <td>7</td>\n",
       "    </tr>\n",
       "    <tr>\n",
       "      <th>48414</th>\n",
       "      <td>India</td>\n",
       "      <td>1385635</td>\n",
       "      <td>32060</td>\n",
       "      <td>885573</td>\n",
       "      <td>468002</td>\n",
       "      <td>25/7</td>\n",
       "      <td>7</td>\n",
       "    </tr>\n",
       "    <tr>\n",
       "      <th>48675</th>\n",
       "      <td>India</td>\n",
       "      <td>1435616</td>\n",
       "      <td>32771</td>\n",
       "      <td>917568</td>\n",
       "      <td>485277</td>\n",
       "      <td>26/7</td>\n",
       "      <td>7</td>\n",
       "    </tr>\n",
       "    <tr>\n",
       "      <th>48936</th>\n",
       "      <td>India</td>\n",
       "      <td>1480073</td>\n",
       "      <td>33408</td>\n",
       "      <td>951166</td>\n",
       "      <td>495499</td>\n",
       "      <td>27/7</td>\n",
       "      <td>7</td>\n",
       "    </tr>\n",
       "  </tbody>\n",
       "</table>\n",
       "</div>"
      ],
      "text/plain": [
       "      Country/Region  Confirmed  Deaths  Recovered  Active  date month\n",
       "47892          India    1288108   30601     817209  440298  23/7     7\n",
       "48153          India    1337024   31358     849432  456234  24/7     7\n",
       "48414          India    1385635   32060     885573  468002  25/7     7\n",
       "48675          India    1435616   32771     917568  485277  26/7     7\n",
       "48936          India    1480073   33408     951166  495499  27/7     7"
      ]
     },
     "execution_count": 4,
     "metadata": {},
     "output_type": "execute_result"
    }
   ],
   "source": [
    "df3=df2.copy()\n",
    "df2[\"Date\"] = pd.to_datetime(df2[\"Date\"])\n",
    "df3['date']=df2['Date'].dt.day.astype(\"str\")+\"/\"+df2['Date'].dt.month.astype(\"str\")\n",
    "df3['month']=df2['Date'].dt.month.astype(\"str\")\n",
    "df3=df3.drop(\"Date\",axis=1)\n",
    "df3.tail()"
   ]
  },
  {
   "cell_type": "code",
   "execution_count": 5,
   "id": "61c00e07",
   "metadata": {},
   "outputs": [
    {
     "data": {
      "text/html": [
       "<div>\n",
       "<style scoped>\n",
       "    .dataframe tbody tr th:only-of-type {\n",
       "        vertical-align: middle;\n",
       "    }\n",
       "\n",
       "    .dataframe tbody tr th {\n",
       "        vertical-align: top;\n",
       "    }\n",
       "\n",
       "    .dataframe thead th {\n",
       "        text-align: right;\n",
       "    }\n",
       "</style>\n",
       "<table border=\"1\" class=\"dataframe\">\n",
       "  <thead>\n",
       "    <tr style=\"text-align: right;\">\n",
       "      <th></th>\n",
       "      <th>Confirmed</th>\n",
       "      <th>Deaths</th>\n",
       "      <th>Recovered</th>\n",
       "      <th>Active</th>\n",
       "      <th>DeathPercentage</th>\n",
       "    </tr>\n",
       "    <tr>\n",
       "      <th>month</th>\n",
       "      <th></th>\n",
       "      <th></th>\n",
       "      <th></th>\n",
       "      <th></th>\n",
       "      <th></th>\n",
       "    </tr>\n",
       "  </thead>\n",
       "  <tbody>\n",
       "    <tr>\n",
       "      <th>1</th>\n",
       "      <td>2</td>\n",
       "      <td>0</td>\n",
       "      <td>0</td>\n",
       "      <td>2</td>\n",
       "      <td>0.000000</td>\n",
       "    </tr>\n",
       "    <tr>\n",
       "      <th>2</th>\n",
       "      <td>84</td>\n",
       "      <td>0</td>\n",
       "      <td>42</td>\n",
       "      <td>42</td>\n",
       "      <td>0.000000</td>\n",
       "    </tr>\n",
       "    <tr>\n",
       "      <th>3</th>\n",
       "      <td>10252</td>\n",
       "      <td>226</td>\n",
       "      <td>818</td>\n",
       "      <td>9208</td>\n",
       "      <td>2.204448</td>\n",
       "    </tr>\n",
       "    <tr>\n",
       "      <th>4</th>\n",
       "      <td>447607</td>\n",
       "      <td>14417</td>\n",
       "      <td>85811</td>\n",
       "      <td>347379</td>\n",
       "      <td>3.220906</td>\n",
       "    </tr>\n",
       "    <tr>\n",
       "      <th>5</th>\n",
       "      <td>3088494</td>\n",
       "      <td>94154</td>\n",
       "      <td>1216954</td>\n",
       "      <td>1777386</td>\n",
       "      <td>3.048541</td>\n",
       "    </tr>\n",
       "    <tr>\n",
       "      <th>6</th>\n",
       "      <td>10951713</td>\n",
       "      <td>331856</td>\n",
       "      <td>5916008</td>\n",
       "      <td>4703849</td>\n",
       "      <td>3.030174</td>\n",
       "    </tr>\n",
       "    <tr>\n",
       "      <th>7</th>\n",
       "      <td>26385312</td>\n",
       "      <td>671178</td>\n",
       "      <td>16564087</td>\n",
       "      <td>9150047</td>\n",
       "      <td>2.543756</td>\n",
       "    </tr>\n",
       "  </tbody>\n",
       "</table>\n",
       "</div>"
      ],
      "text/plain": [
       "       Confirmed  Deaths  Recovered   Active  DeathPercentage\n",
       "month                                                        \n",
       "1              2       0          0        2         0.000000\n",
       "2             84       0         42       42         0.000000\n",
       "3          10252     226        818     9208         2.204448\n",
       "4         447607   14417      85811   347379         3.220906\n",
       "5        3088494   94154    1216954  1777386         3.048541\n",
       "6       10951713  331856    5916008  4703849         3.030174\n",
       "7       26385312  671178   16564087  9150047         2.543756"
      ]
     },
     "execution_count": 5,
     "metadata": {},
     "output_type": "execute_result"
    }
   ],
   "source": [
    "df4=df3.groupby(\"month\").sum()\n",
    "df4[\"DeathPercentage\"]=(df4.Deaths.astype(\"int\")/(df4.Confirmed.astype(\"int\")))*100\n",
    "df4"
   ]
  },
  {
   "cell_type": "code",
   "execution_count": 6,
   "id": "3e86d2e5",
   "metadata": {},
   "outputs": [
    {
     "data": {
      "image/png": "[encoded data removed]",
      "text/plain": [
       "<Figure size 432x288 with 1 Axes>"
      ]
     },
     "metadata": {
      "needs_background": "light"
     },
     "output_type": "display_data"
    }
   ],
   "source": [
    "m=[\"January\",\"February\",\"March\",\"April\",\"May\",\"June\",\"July\"]\n",
    "y=df3.groupby(\"month\").sum().Confirmed\n",
    "mp.plot(m,y)\n",
    "mp.scatter(m,y)\n",
    "mp.xlabel('Month')\n",
    "mp.ylabel('No of Cases (10^7)')\n",
    "mp.title('Confirmed Covid Cases')\n",
    "mp.show()"
   ]
  },
  {
   "cell_type": "markdown",
   "id": "ad8f7a3f",
   "metadata": {},
   "source": [
    "Here, we can see that the Number of Covid cases rose exponentially throught the country from April 2020 to July 2020. This corresponds to first wave of Covid-19 in India."
   ]
  },
  {
   "cell_type": "code",
   "execution_count": 7,
   "id": "b28bb35b",
   "metadata": {},
   "outputs": [
    {
     "data": {
      "image/png": "[encoded data removed]",
      "text/plain": [
       "<Figure size 1008x720 with 1 Axes>"
      ]
     },
     "metadata": {
      "needs_background": "light"
     },
     "output_type": "display_data"
    }
   ],
   "source": [
    "m=[\"January\",\"February\",\"March\",\"April\",\"May\",\"June\",\"July\"]\n",
    "y=df3.groupby(\"month\").sum().Confirmed\n",
    "z=df3.groupby(\"month\").sum().Active\n",
    "a=df3.groupby(\"month\").sum().Recovered \n",
    "fig = mp.figure(figsize =(14,10))\n",
    "i = np.arange(len(m))\n",
    "w=0.25\n",
    "mp.bar(i,y,w,label = \"Confirmed Cases\")\n",
    "mp.bar(i+w,a,w,label = \"Recovered Cases\")\n",
    "mp.bar(i+w+w,z,w,label = \"Active Cases\")\n",
    "mp.xticks(i+w, m)\n",
    "mp.xlabel('Months')\n",
    "mp.title('Covid Cases')\n",
    "mp.ylabel('No of Cases (10^7)')\n",
    "mp.legend()\n",
    "mp.show()"
   ]
  },
  {
   "cell_type": "code",
   "execution_count": 8,
   "id": "955017dd",
   "metadata": {},
   "outputs": [
    {
     "data": {
      "image/png": "[encoded data removed]",
      "text/plain": [
       "<Figure size 432x288 with 1 Axes>"
      ]
     },
     "metadata": {
      "needs_background": "light"
     },
     "output_type": "display_data"
    }
   ],
   "source": [
    "m=[\"January\",\"February\",\"March\",\"April\",\"May\",\"June\",\"July\"]\n",
    "y=df4.DeathPercentage\n",
    "mp.plot(m,y)\n",
    "mp.scatter(m,y)\n",
    "mp.xlabel('Month')\n",
    "mp.title('Death Percentage')\n",
    "mp.show()\n",
    "# Deaths Vs Confirmed Cases Percentage Graph"
   ]
  },
  {
   "cell_type": "markdown",
   "id": "5348685f",
   "metadata": {},
   "source": [
    "Covid cases continued to increase after the first wave. Initially the recovery rate was low and the number of active cases were more than the number of recovered cases. This was seen as hospitals across the country suffered an initial shock due to the sudden exponential increase in cases and lack of data about the virus. But with time the situation improved and the recovery rate increased both due to improved facilities in hospitals, such as increased oxygen supply, more ventillators, etc, and a series of country-wide lockdowns. This can be seen in the first graph as the number of recovered cases overtook the number of active cases. Also, this can be seen in the second graph as the Death percentage took a fall in the later months.\n",
    "\n",
    "The highest Death Rate due to Covid-19 in these month was in April."
   ]
  },
  {
   "cell_type": "code",
   "execution_count": 9,
   "id": "2567eac5",
   "metadata": {},
   "outputs": [
    {
     "data": {
      "image/png": "[encoded data removed]",
      "text/plain": [
       "<Figure size 432x288 with 1 Axes>"
      ]
     },
     "metadata": {
      "needs_background": "light"
     },
     "output_type": "display_data"
    }
   ],
   "source": [
    "x=df3.month.unique()\n",
    "y=df3.groupby(\"month\").sum().Deaths\n",
    "mp.xlabel('Month')\n",
    "mp.title('Covid-19 Deaths')\n",
    "mp.ylabel('No of Deaths')\n",
    "mp.bar(x,y)\n",
    "mp.show()"
   ]
  },
  {
   "cell_type": "code",
   "execution_count": 10,
   "id": "60bbd0e0",
   "metadata": {
    "scrolled": true
   },
   "outputs": [
    {
     "data": {
      "image/png": "[encoded data removed]",
      "text/plain": [
       "<Figure size 432x288 with 1 Axes>"
      ]
     },
     "metadata": {
      "needs_background": "light"
     },
     "output_type": "display_data"
    }
   ],
   "source": [
    "x=df3.date\n",
    "y=df3.Deaths\n",
    "mp.plot(x,y)\n",
    "mp.xlabel('Date')\n",
    "mp.title('Covid-19 Deaths')\n",
    "mp.ylabel('No of Deaths')\n",
    "mp.show()"
   ]
  },
  {
   "cell_type": "markdown",
   "id": "e97c0e05",
   "metadata": {},
   "source": [
    "The number of deaths across the country increased exponentially as the pandemic spread and the situation worsened.  \n",
    "The highest number of deaths in these months was in July."
   ]
  }
 ],
 "metadata": {
  "kernelspec": {
   "display_name": "Python 3 (ipykernel)",
   "language": "python",
   "name": "python3"
  },
  "language_info": {
   "codemirror_mode": {
    "name": "ipython",
    "version": 3
   },
   "file_extension": ".py",
   "mimetype": "text/x-python",
   "name": "python",
   "nbconvert_exporter": "python",
   "pygments_lexer": "ipython3",
   "version": "3.9.7"
  }
 },
 "nbformat": 4,
 "nbformat_minor": 5
}
