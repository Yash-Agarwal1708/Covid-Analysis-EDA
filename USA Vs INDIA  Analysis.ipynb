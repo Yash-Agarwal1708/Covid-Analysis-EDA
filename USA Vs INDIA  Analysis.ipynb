{
 "cells": [
  {
   "cell_type": "code",
   "execution_count": 7,
   "id": "07c8d4ab",
   "metadata": {},
   "outputs": [],
   "source": [
    "import pandas as pd\n",
    "import numpy as np\n",
    "import matplotlib.pyplot as mp\n",
    "pd.options.mode.chained_assignment = None"
   ]
  },
  {
   "cell_type": "code",
   "execution_count": 9,
   "id": "470c82ae",
   "metadata": {},
   "outputs": [
    {
     "data": {
      "text/html": [
       "<div>\n",
       "<style scoped>\n",
       "    .dataframe tbody tr th:only-of-type {\n",
       "        vertical-align: middle;\n",
       "    }\n",
       "\n",
       "    .dataframe tbody tr th {\n",
       "        vertical-align: top;\n",
       "    }\n",
       "\n",
       "    .dataframe thead th {\n",
       "        text-align: right;\n",
       "    }\n",
       "</style>\n",
       "<table border=\"1\" class=\"dataframe\">\n",
       "  <thead>\n",
       "    <tr style=\"text-align: right;\">\n",
       "      <th></th>\n",
       "      <th>Confirmed</th>\n",
       "      <th>Deaths</th>\n",
       "      <th>Recovered</th>\n",
       "      <th>Active</th>\n",
       "      <th>DeathPercentage</th>\n",
       "    </tr>\n",
       "    <tr>\n",
       "      <th>month</th>\n",
       "      <th></th>\n",
       "      <th></th>\n",
       "      <th></th>\n",
       "      <th></th>\n",
       "      <th></th>\n",
       "    </tr>\n",
       "  </thead>\n",
       "  <tbody>\n",
       "    <tr>\n",
       "      <th>1</th>\n",
       "      <td>2</td>\n",
       "      <td>0</td>\n",
       "      <td>0</td>\n",
       "      <td>2</td>\n",
       "      <td>0.000000</td>\n",
       "    </tr>\n",
       "    <tr>\n",
       "      <th>2</th>\n",
       "      <td>84</td>\n",
       "      <td>0</td>\n",
       "      <td>42</td>\n",
       "      <td>42</td>\n",
       "      <td>0.000000</td>\n",
       "    </tr>\n",
       "    <tr>\n",
       "      <th>3</th>\n",
       "      <td>10252</td>\n",
       "      <td>226</td>\n",
       "      <td>818</td>\n",
       "      <td>9208</td>\n",
       "      <td>2.204448</td>\n",
       "    </tr>\n",
       "    <tr>\n",
       "      <th>4</th>\n",
       "      <td>447607</td>\n",
       "      <td>14417</td>\n",
       "      <td>85811</td>\n",
       "      <td>347379</td>\n",
       "      <td>3.220906</td>\n",
       "    </tr>\n",
       "    <tr>\n",
       "      <th>5</th>\n",
       "      <td>3088494</td>\n",
       "      <td>94154</td>\n",
       "      <td>1216954</td>\n",
       "      <td>1777386</td>\n",
       "      <td>3.048541</td>\n",
       "    </tr>\n",
       "    <tr>\n",
       "      <th>6</th>\n",
       "      <td>10951713</td>\n",
       "      <td>331856</td>\n",
       "      <td>5916008</td>\n",
       "      <td>4703849</td>\n",
       "      <td>3.030174</td>\n",
       "    </tr>\n",
       "    <tr>\n",
       "      <th>7</th>\n",
       "      <td>26385312</td>\n",
       "      <td>671178</td>\n",
       "      <td>16564087</td>\n",
       "      <td>9150047</td>\n",
       "      <td>2.543756</td>\n",
       "    </tr>\n",
       "  </tbody>\n",
       "</table>\n",
       "</div>"
      ],
      "text/plain": [
       "       Confirmed  Deaths  Recovered   Active  DeathPercentage\n",
       "month                                                        \n",
       "1              2       0          0        2         0.000000\n",
       "2             84       0         42       42         0.000000\n",
       "3          10252     226        818     9208         2.204448\n",
       "4         447607   14417      85811   347379         3.220906\n",
       "5        3088494   94154    1216954  1777386         3.048541\n",
       "6       10951713  331856    5916008  4703849         3.030174\n",
       "7       26385312  671178   16564087  9150047         2.543756"
      ]
     },
     "execution_count": 9,
     "metadata": {},
     "output_type": "execute_result"
    }
   ],
   "source": [
    "df=pd.read_csv(\"covid_19_clean_complete.csv\")\n",
    "pd.set_option('display.max_rows',190)\n",
    "df1=df.drop([\"Province/State\",\"WHO Region\",\"Lat\",\"Long\"],axis=1)\n",
    "df2=df1[(df1[\"Country/Region\"]==\"India\")]\n",
    "df3=df2.copy()\n",
    "df2[\"Date\"] = pd.to_datetime(df2[\"Date\"])\n",
    "df3['date']=df2['Date'].dt.day.astype(\"str\")+\"/\"+df2['Date'].dt.month.astype(\"str\")\n",
    "df3['month']=df2['Date'].dt.month.astype(\"str\")\n",
    "df3=df3.drop(\"Date\",axis=1)\n",
    "df4=df3.groupby(\"month\").sum()\n",
    "df4[\"DeathPercentage\"]=(df4.Deaths.astype(\"int\")/(df4.Confirmed.astype(\"int\")))*100\n",
    "df4\n",
    "# India"
   ]
  },
  {
   "cell_type": "code",
   "execution_count": 11,
   "id": "f9470b45",
   "metadata": {},
   "outputs": [
    {
     "data": {
      "text/html": [
       "<div>\n",
       "<style scoped>\n",
       "    .dataframe tbody tr th:only-of-type {\n",
       "        vertical-align: middle;\n",
       "    }\n",
       "\n",
       "    .dataframe tbody tr th {\n",
       "        vertical-align: top;\n",
       "    }\n",
       "\n",
       "    .dataframe thead th {\n",
       "        text-align: right;\n",
       "    }\n",
       "</style>\n",
       "<table border=\"1\" class=\"dataframe\">\n",
       "  <thead>\n",
       "    <tr style=\"text-align: right;\">\n",
       "      <th></th>\n",
       "      <th>Confirmed</th>\n",
       "      <th>Deaths</th>\n",
       "      <th>DeathPercentage</th>\n",
       "    </tr>\n",
       "    <tr>\n",
       "      <th>month</th>\n",
       "      <th></th>\n",
       "      <th></th>\n",
       "      <th></th>\n",
       "    </tr>\n",
       "  </thead>\n",
       "  <tbody>\n",
       "    <tr>\n",
       "      <th>1</th>\n",
       "      <td>38</td>\n",
       "      <td>0</td>\n",
       "      <td>0.000000</td>\n",
       "    </tr>\n",
       "    <tr>\n",
       "      <th>2</th>\n",
       "      <td>378</td>\n",
       "      <td>1</td>\n",
       "      <td>0.264550</td>\n",
       "    </tr>\n",
       "    <tr>\n",
       "      <th>3</th>\n",
       "      <td>1091068</td>\n",
       "      <td>26160</td>\n",
       "      <td>2.397651</td>\n",
       "    </tr>\n",
       "    <tr>\n",
       "      <th>4</th>\n",
       "      <td>19552582</td>\n",
       "      <td>1035013</td>\n",
       "      <td>5.293485</td>\n",
       "    </tr>\n",
       "    <tr>\n",
       "      <th>5</th>\n",
       "      <td>45407574</td>\n",
       "      <td>2728676</td>\n",
       "      <td>6.009297</td>\n",
       "    </tr>\n",
       "    <tr>\n",
       "      <th>6</th>\n",
       "      <td>64933835</td>\n",
       "      <td>3518537</td>\n",
       "      <td>5.418650</td>\n",
       "    </tr>\n",
       "    <tr>\n",
       "      <th>7</th>\n",
       "      <td>93360473</td>\n",
       "      <td>3703024</td>\n",
       "      <td>3.966372</td>\n",
       "    </tr>\n",
       "  </tbody>\n",
       "</table>\n",
       "</div>"
      ],
      "text/plain": [
       "       Confirmed   Deaths  DeathPercentage\n",
       "month                                     \n",
       "1             38        0         0.000000\n",
       "2            378        1         0.264550\n",
       "3        1091068    26160         2.397651\n",
       "4       19552582  1035013         5.293485\n",
       "5       45407574  2728676         6.009297\n",
       "6       64933835  3518537         5.418650\n",
       "7       93360473  3703024         3.966372"
      ]
     },
     "execution_count": 11,
     "metadata": {},
     "output_type": "execute_result"
    }
   ],
   "source": [
    "df5=pd.read_csv(\"usa_county_wise.csv\")\n",
    "pd.set_option('display.max_rows',190)\n",
    "df6=df5.drop([\"Province_State\",\"UID\",\"iso2\",\"iso3\",\"code3\",\"FIPS\",\"Admin2\",\"Lat\",\"Long_\",\"Combined_Key\"],axis=1)\n",
    "df7=df6.copy()\n",
    "df7[\"Date\"] = pd.to_datetime(df7[\"Date\"])\n",
    "df7['month']=df7['Date'].dt.month.astype(\"str\")\n",
    "df8=df7.groupby(\"month\").sum()\n",
    "df8[\"DeathPercentage\"]=(df8.Deaths.astype(\"int\")/df8.Confirmed.astype(\"int\"))*100\n",
    "df8\n",
    "# USA"
   ]
  },
  {
   "cell_type": "code",
   "execution_count": 15,
   "id": "213961a1",
   "metadata": {},
   "outputs": [
    {
     "data": {
      "image/png": "[encoded data removed]",
      "text/plain": [
       "<Figure size 432x288 with 1 Axes>"
      ]
     },
     "metadata": {
      "needs_background": "light"
     },
     "output_type": "display_data"
    }
   ],
   "source": [
    "m=[\"January\",\"February\",\"March\",\"April\",\"May\",\"June\",\"July\"]\n",
    "y=df3.groupby(\"month\").sum().Confirmed\n",
    "z=df8.Confirmed\n",
    "mp.plot(m,y,label=\"INDIA\")\n",
    "mp.scatter(m,y)\n",
    "mp.plot(m,z,label=\"USA\")\n",
    "mp.scatter(m,z)\n",
    "mp.xlabel('Month')\n",
    "mp.ylabel('No of Cases (10^7)')\n",
    "mp.title('Confirmed Covid Cases')\n",
    "mp.legend()\n",
    "mp.show()"
   ]
  },
  {
   "cell_type": "markdown",
   "id": "cead9987",
   "metadata": {},
   "source": [
    "The number of Covid cases increased exponentially in both the countries but the situation was much worse in USA. The first wave came in USA in March as compared to April in India. "
   ]
  },
  {
   "cell_type": "code",
   "execution_count": 17,
   "id": "85d1a6b6",
   "metadata": {},
   "outputs": [
    {
     "data": {
      "image/png": "[encoded data removed]",
      "text/plain": [
       "<Figure size 432x288 with 1 Axes>"
      ]
     },
     "metadata": {
      "needs_background": "light"
     },
     "output_type": "display_data"
    }
   ],
   "source": [
    "m=[\"January\",\"February\",\"March\",\"April\",\"May\",\"June\",\"July\"]\n",
    "y=df4.DeathPercentage\n",
    "mp.plot(m,y,label=\"INDIA\")\n",
    "mp.scatter(m,y)\n",
    "mp.xlabel('Month')\n",
    "mp.title('Death Percentage')\n",
    "z=df8.DeathPercentage\n",
    "mp.scatter(m,z)\n",
    "mp.plot(m,z,label=\"USA\")\n",
    "mp.legend()\n",
    "mp.show()\n",
    "# Deaths Vs Confirmed Cases Percentage Graph"
   ]
  },
  {
   "cell_type": "markdown",
   "id": "dd42c597",
   "metadata": {},
   "source": [
    "The Death rate due to Covid-19 was much higher in USA than in India. This coupled with the fact that India has a much higher population than USA indicates a very poor condition of USA. The health-care system could not bear the burden of the huge number of cases and the recovery rate did not improve much. \n",
    "\n",
    "Death rate started going down in India a month earlier than it did in the USA. Also, at their highest points, the death percentage of USA was nearly double of that of India. \n",
    "\n",
    "This indicates a severe mismanagement of the pandemic in the USA as well and paints a terrible picture of the US health-care system. "
   ]
  }
 ],
 "metadata": {
  "kernelspec": {
   "display_name": "Python 3 (ipykernel)",
   "language": "python",
   "name": "python3"
  },
  "language_info": {
   "codemirror_mode": {
    "name": "ipython",
    "version": 3
   },
   "file_extension": ".py",
   "mimetype": "text/x-python",
   "name": "python",
   "nbconvert_exporter": "python",
   "pygments_lexer": "ipython3",
   "version": "3.9.7"
  }
 },
 "nbformat": 4,
 "nbformat_minor": 5
}
