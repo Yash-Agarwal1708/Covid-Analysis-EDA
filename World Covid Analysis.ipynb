{
 "cells": [
  {
   "cell_type": "code",
   "execution_count": 199,
   "id": "5b291e4b",
   "metadata": {},
   "outputs": [],
   "source": [
    "import pandas as pd\n",
    "import numpy as np\n",
    "import matplotlib.pyplot as mp"
   ]
  },
  {
   "cell_type": "code",
   "execution_count": 200,
   "id": "e240756a",
   "metadata": {},
   "outputs": [],
   "source": [
    "df=pd.read_csv(\"worldometer_data.csv\")"
   ]
  },
  {
   "cell_type": "code",
   "execution_count": 201,
   "id": "f44d980f",
   "metadata": {},
   "outputs": [],
   "source": [
    "df=df.drop(['Country/Region','Tot Cases/1M pop','Deaths/1M pop','Tests/1M pop','WHO Region'],axis=1)"
   ]
  },
  {
   "cell_type": "code",
   "execution_count": 202,
   "id": "5a8bbbb3",
   "metadata": {
    "scrolled": true
   },
   "outputs": [
    {
     "data": {
      "text/html": [
       "<div>\n",
       "<style scoped>\n",
       "    .dataframe tbody tr th:only-of-type {\n",
       "        vertical-align: middle;\n",
       "    }\n",
       "\n",
       "    .dataframe tbody tr th {\n",
       "        vertical-align: top;\n",
       "    }\n",
       "\n",
       "    .dataframe thead th {\n",
       "        text-align: right;\n",
       "    }\n",
       "</style>\n",
       "<table border=\"1\" class=\"dataframe\">\n",
       "  <thead>\n",
       "    <tr style=\"text-align: right;\">\n",
       "      <th></th>\n",
       "      <th>Population</th>\n",
       "      <th>TotalCases</th>\n",
       "      <th>TotalDeaths</th>\n",
       "      <th>TotalRecovered</th>\n",
       "      <th>ActiveCases</th>\n",
       "      <th>Serious,Critical</th>\n",
       "      <th>TotalTests</th>\n",
       "      <th>CovidTestPercentage</th>\n",
       "      <th>CovidTestPositivePercentage</th>\n",
       "      <th>DeathPercentage</th>\n",
       "      <th>ActiveCaseSeverity</th>\n",
       "    </tr>\n",
       "    <tr>\n",
       "      <th>Continent</th>\n",
       "      <th></th>\n",
       "      <th></th>\n",
       "      <th></th>\n",
       "      <th></th>\n",
       "      <th></th>\n",
       "      <th></th>\n",
       "      <th></th>\n",
       "      <th></th>\n",
       "      <th></th>\n",
       "      <th></th>\n",
       "      <th></th>\n",
       "    </tr>\n",
       "  </thead>\n",
       "  <tbody>\n",
       "    <tr>\n",
       "      <th>Africa</th>\n",
       "      <td>1.343515e+09</td>\n",
       "      <td>1011867</td>\n",
       "      <td>22114</td>\n",
       "      <td>693620</td>\n",
       "      <td>296133.0</td>\n",
       "      <td>1187.0</td>\n",
       "      <td>8673853.0</td>\n",
       "      <td>0.645609</td>\n",
       "      <td>11.665715</td>\n",
       "      <td>3.089695</td>\n",
       "      <td>0.400833</td>\n",
       "    </tr>\n",
       "    <tr>\n",
       "      <th>Asia</th>\n",
       "      <td>3.173656e+09</td>\n",
       "      <td>4689814</td>\n",
       "      <td>100628</td>\n",
       "      <td>3508212</td>\n",
       "      <td>1080997.0</td>\n",
       "      <td>18749.0</td>\n",
       "      <td>65353821.0</td>\n",
       "      <td>2.059259</td>\n",
       "      <td>7.176036</td>\n",
       "      <td>2.788393</td>\n",
       "      <td>1.734417</td>\n",
       "    </tr>\n",
       "    <tr>\n",
       "      <th>Australia/Oceania</th>\n",
       "      <td>4.095791e+07</td>\n",
       "      <td>21735</td>\n",
       "      <td>281</td>\n",
       "      <td>12620</td>\n",
       "      <td>8834.0</td>\n",
       "      <td>52.0</td>\n",
       "      <td>5152811.0</td>\n",
       "      <td>12.580747</td>\n",
       "      <td>0.421809</td>\n",
       "      <td>2.178126</td>\n",
       "      <td>0.588635</td>\n",
       "    </tr>\n",
       "    <tr>\n",
       "      <th>Europe</th>\n",
       "      <td>7.476775e+08</td>\n",
       "      <td>2982576</td>\n",
       "      <td>205232</td>\n",
       "      <td>1587302</td>\n",
       "      <td>475261.0</td>\n",
       "      <td>5200.0</td>\n",
       "      <td>96125611.0</td>\n",
       "      <td>12.856560</td>\n",
       "      <td>3.102790</td>\n",
       "      <td>8.185330</td>\n",
       "      <td>1.094136</td>\n",
       "    </tr>\n",
       "    <tr>\n",
       "      <th>North America</th>\n",
       "      <td>5.895035e+08</td>\n",
       "      <td>5925829</td>\n",
       "      <td>230674</td>\n",
       "      <td>3155818</td>\n",
       "      <td>2537676.0</td>\n",
       "      <td>25709.0</td>\n",
       "      <td>70173584.0</td>\n",
       "      <td>11.903846</td>\n",
       "      <td>8.444529</td>\n",
       "      <td>6.808252</td>\n",
       "      <td>1.013092</td>\n",
       "    </tr>\n",
       "    <tr>\n",
       "      <th>South America</th>\n",
       "      <td>4.311105e+08</td>\n",
       "      <td>4544555</td>\n",
       "      <td>154965</td>\n",
       "      <td>3117086</td>\n",
       "      <td>1272238.0</td>\n",
       "      <td>14295.0</td>\n",
       "      <td>22379618.0</td>\n",
       "      <td>5.191156</td>\n",
       "      <td>20.306669</td>\n",
       "      <td>4.735635</td>\n",
       "      <td>1.123611</td>\n",
       "    </tr>\n",
       "  </tbody>\n",
       "</table>\n",
       "</div>"
      ],
      "text/plain": [
       "                     Population  TotalCases  TotalDeaths  TotalRecovered  \\\n",
       "Continent                                                                  \n",
       "Africa             1.343515e+09     1011867        22114          693620   \n",
       "Asia               3.173656e+09     4689814       100628         3508212   \n",
       "Australia/Oceania  4.095791e+07       21735          281           12620   \n",
       "Europe             7.476775e+08     2982576       205232         1587302   \n",
       "North America      5.895035e+08     5925829       230674         3155818   \n",
       "South America      4.311105e+08     4544555       154965         3117086   \n",
       "\n",
       "                   ActiveCases  Serious,Critical  TotalTests  \\\n",
       "Continent                                                      \n",
       "Africa                296133.0            1187.0   8673853.0   \n",
       "Asia                 1080997.0           18749.0  65353821.0   \n",
       "Australia/Oceania       8834.0              52.0   5152811.0   \n",
       "Europe                475261.0            5200.0  96125611.0   \n",
       "North America        2537676.0           25709.0  70173584.0   \n",
       "South America        1272238.0           14295.0  22379618.0   \n",
       "\n",
       "                   CovidTestPercentage  CovidTestPositivePercentage  \\\n",
       "Continent                                                             \n",
       "Africa                        0.645609                    11.665715   \n",
       "Asia                          2.059259                     7.176036   \n",
       "Australia/Oceania            12.580747                     0.421809   \n",
       "Europe                       12.856560                     3.102790   \n",
       "North America                11.903846                     8.444529   \n",
       "South America                 5.191156                    20.306669   \n",
       "\n",
       "                   DeathPercentage  ActiveCaseSeverity  \n",
       "Continent                                               \n",
       "Africa                    3.089695            0.400833  \n",
       "Asia                      2.788393            1.734417  \n",
       "Australia/Oceania         2.178126            0.588635  \n",
       "Europe                    8.185330            1.094136  \n",
       "North America             6.808252            1.013092  \n",
       "South America             4.735635            1.123611  "
      ]
     },
     "execution_count": 202,
     "metadata": {},
     "output_type": "execute_result"
    }
   ],
   "source": [
    "df=df.groupby('Continent').sum()\n",
    "df1=df.copy()\n",
    "df1.TotalCases=df.TotalCases.astype(\"int\")+df.NewCases.astype(\"int\")\n",
    "df1.TotalRecovered=df.TotalRecovered.astype(\"int\")+df.NewRecovered.astype(\"int\")\n",
    "df1.TotalDeaths=df.TotalDeaths.astype(\"int\")+df.NewDeaths.astype(\"int\")\n",
    "df1=df1.drop(['NewCases','NewRecovered','NewDeaths'],axis=1)\n",
    "df1[\"CovidTestPercentage\"]=(df1.TotalTests.astype(\"float\")/df1.Population.astype(\"float\"))*100\n",
    "df1[\"CovidTestPositivePercentage\"]=(df1.TotalCases.astype(\"float\")/df1.TotalTests.astype(\"float\"))*100\n",
    "df1[\"DeathPercentage\"]=(df1.TotalDeaths.astype(\"float\")/(df1.TotalCases.astype(\"float\")-df1.ActiveCases.astype(\"float\")))*100\n",
    "df1[\"ActiveCaseSeverity\"]=(df1[\"Serious,Critical\"].astype(\"float\")/df1.ActiveCases.astype(\"float\"))*100\n",
    "df1\n",
    "# Here I added the new cases to the total cases so that the values become updated upto the time this data was taken. "
   ]
  },
  {
   "cell_type": "code",
   "execution_count": 203,
   "id": "42e5b065",
   "metadata": {},
   "outputs": [
    {
     "data": {
      "image/png": "[encoded data removed]",
      "text/plain": [
       "<Figure size 720x576 with 1 Axes>"
      ]
     },
     "metadata": {
      "needs_background": "light"
     },
     "output_type": "display_data"
    }
   ],
   "source": [
    "m = df1.index\n",
    "c1 = df1.CovidTestPercentage\n",
    "fig = mp.figure(figsize =(10,8))\n",
    "mp.bar(m,c1)\n",
    "mp.xlabel('Continent')\n",
    "mp.title('Covid Test Percentage')\n",
    "mp.show()\n",
    "#Ratio(%) of Total Tests Vs Total Population"
   ]
  },
  {
   "cell_type": "markdown",
   "id": "ce8b7741",
   "metadata": {},
   "source": [
    "Ratio(%) of Total Tests Vs Total Population\n",
    "\n",
    "Here we compare the total number of tests done with the total population done\n",
    "We can see that Asia, Africa and South America had quite a low testing percentage when compared to the other continents.\n",
    "This can be due to:-\n",
    "\n",
    "1) Inadequate testing- People in these places didnt get proper access to testing facilities. It can happen due to:-  \n",
    "&ensp;&ensp;&ensp;&ensp;&ensp;&ensp; a) Lack of testing equipment or qualified professional.  \n",
    "&ensp;&ensp;&ensp;&ensp;&ensp;&ensp; b) Inaccessibilty of testing centres.  \n",
    "&ensp;&ensp;&ensp;&ensp;&ensp;&ensp; c) Unaffordability of testing procedure.  \n",
    "&ensp;&ensp;&ensp;&ensp;&ensp;&ensp; d) Social or personal apprehension towards testing.  \n",
    "        \n",
    "2) Lower demand for testing- People in these places were less exposed to the virus due to absence of intense connectivity.  \n",
    "\n",
    "Europe had the highest tests vs population ratio.  \n",
    "Africa had the lowest tests vs population ratio.  "
   ]
  },
  {
   "cell_type": "code",
   "execution_count": 204,
   "id": "b5727113",
   "metadata": {},
   "outputs": [
    {
     "data": {
      "image/png": "[encoded data removed]",
      "text/plain": [
       "<Figure size 720x576 with 1 Axes>"
      ]
     },
     "metadata": {
      "needs_background": "light"
     },
     "output_type": "display_data"
    }
   ],
   "source": [
    "m = df1.index\n",
    "c1 = df1.CovidTestPositivePercentage\n",
    "fig = mp.figure(figsize =(10,8))\n",
    "mp.bar(m,c1)\n",
    "mp.xlabel('Continent')\n",
    "mp.title('Covid Test Positive Percentage')\n",
    "mp.show()\n",
    "#Ratio(%) of Total Cases Vs Total Tests Done"
   ]
  },
  {
   "cell_type": "markdown",
   "id": "cd262a09",
   "metadata": {},
   "source": [
    "Ratio(%) of Total Cases Vs Total Tests Done\n",
    "\n",
    "Here we compare the total number of cases with the total number of tests done instead of with the total population because we do not have data about the untested population, so it is more accurate to graph the Test Positive Percentage for the tested population.\n",
    "\n",
    "From this graph we can see that even though Asia, Africa and South America had a lower testing percentage, they had a higher test positive percentage, which indicates that the people in these places were more vulnerable to the disease. This can be due to:-\n",
    "\n",
    "&ensp;&ensp;&ensp;&ensp;&ensp;&ensp; 1) Malnourishment- This could result in lower immunity which can make people more susceptible to catching the disease.  \n",
    "&ensp;&ensp;&ensp;&ensp;&ensp;&ensp; 2) Poor Hygiene- This could result in inceased transmission of the disease.  \n",
    "&ensp;&ensp;&ensp;&ensp;&ensp;&ensp; 3) Asia has a huge population, especially in cities. High population density can increase the chances of transmission.  \n",
    "\n",
    "Australia/Oceania has a very low test positive rate. It can be because the people in these places were less exposed to the virus due to absence of intense connectivity.  \n",
    "South America had the highest ratio of Covid-positive vs total tests.  "
   ]
  },
  {
   "cell_type": "code",
   "execution_count": 205,
   "id": "c4bf7e4e",
   "metadata": {},
   "outputs": [
    {
     "data": {
      "text/plain": [
       "Text(0.5, 1.0, 'Covid Death Percentage')"
      ]
     },
     "execution_count": 205,
     "metadata": {},
     "output_type": "execute_result"
    },
    {
     "data": {
      "image/png": "[encoded data removed]",
      "text/plain": [
       "<Figure size 720x576 with 1 Axes>"
      ]
     },
     "metadata": {
      "needs_background": "light"
     },
     "output_type": "display_data"
    }
   ],
   "source": [
    "m = df1.index\n",
    "c1 = df1.CovidTestPositivePercentage\n",
    "c2 = df1.DeathPercentage\n",
    "fig = mp.figure(figsize =(10,8))\n",
    "mp.bar(m,c2)\n",
    "mp.xlabel('Continent')\n",
    "mp.title('Covid Death Percentage')\n",
    "# Ratio(%) of Total Deaths Vs Total InActive Cases"
   ]
  },
  {
   "cell_type": "markdown",
   "id": "24205bbc",
   "metadata": {},
   "source": [
    "Ratio(%) of Total Deaths Vs Total Inactive Cases (i.e. Total Cases - Total Active Cases)\n",
    "\n",
    "Here we compare the total number of deaths with the total number of inactive done instead of with the total number of tests done because we do not have data about the active cases(i.e. we do not know whether they recover or not), so it is more accurate to graph the Death Percentage for the inactive cases.\n",
    "\n",
    "From this graph we can see that even though Europe and North America had a lower test positive percentage, they have a higher death percentage, which indicates that the cases in these places were more severe. This can be due to:-\n",
    "\n",
    "1) Overburdening of health-care services- This could happen if the health-care services in these places were underprepared or if the number of cases were much higher than expect.  \n",
    "2) Unaffordability of health-care services- This could happen if the treatment cost was very high in these places.  \n",
    "3) An unexpectedly high number of cases can happen if proper precautions were not taken or were disobeyed by the people.  \n",
    "\n",
    "Australia/Oceania has the lowest death rate. It can be because the people in these places were less exposed to the virus due to absence of intense connectivity and thus the cases were less severe.  \n",
    "Europe has the highest percentage of deaths."
   ]
  },
  {
   "cell_type": "code",
   "execution_count": 206,
   "id": "7f04f0a0",
   "metadata": {},
   "outputs": [
    {
     "data": {
      "image/png": "[encoded data removed]",
      "text/plain": [
       "<Figure size 720x576 with 1 Axes>"
      ]
     },
     "metadata": {
      "needs_background": "light"
     },
     "output_type": "display_data"
    }
   ],
   "source": [
    "m = df1.index\n",
    "c1 = df1.ActiveCaseSeverity\n",
    "fig = mp.figure(figsize =(10,8))\n",
    "mp.bar(m,c1)\n",
    "mp.xlabel('Continent')\n",
    "mp.title('Active Case Severity')\n",
    "mp.show()\n",
    "#Ratio(%) of Total Cases Vs Total Tests Done"
   ]
  },
  {
   "cell_type": "markdown",
   "id": "da832370",
   "metadata": {},
   "source": [
    "Ratio(%) of Serious/Critical Cases Vs Total Active Cases\n",
    "\n",
    "Here we compare the total number of Serious/Critical cases with the total number of active cases.\n",
    "\n",
    "From this graph we can see the severity of Covid-19 remains the highest in Asia."
   ]
  }
 ],
 "metadata": {
  "kernelspec": {
   "display_name": "Python 3 (ipykernel)",
   "language": "python",
   "name": "python3"
  },
  "language_info": {
   "codemirror_mode": {
    "name": "ipython",
    "version": 3
   },
   "file_extension": ".py",
   "mimetype": "text/x-python",
   "name": "python",
   "nbconvert_exporter": "python",
   "pygments_lexer": "ipython3",
   "version": "3.9.7"
  }
 },
 "nbformat": 4,
 "nbformat_minor": 5
}
